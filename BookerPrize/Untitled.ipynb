{
 "cells": [
  {
   "cell_type": "code",
   "execution_count": 2,
   "id": "41544384-668a-4183-b49b-e3cb5c4d42cf",
   "metadata": {},
   "outputs": [],
   "source": [
    "import numpy as np\n",
    "import pandas as pd\n",
    "from matplotlib import pyplot as plt"
   ]
  },
  {
   "cell_type": "code",
   "execution_count": 3,
   "id": "8ca367a6-747c-4acf-a384-01f023a4196e",
   "metadata": {},
   "outputs": [
    {
     "data": {
      "text/plain": [
       "[['J.\\u202fM.\\u202fCoetzee', 'Disgrace'],\n",
       " ['Margaret Atwood', 'The Blind Assassin'],\n",
       " ['Peter Carey', 'True History of the Kelly Gang'],\n",
       " ['Yann Martel', 'Life of Pi'],\n",
       " ['DBC\\u202fPierre', 'Vernon God Little'],\n",
       " ['Alan Hollinghurst', 'The Line of Beauty'],\n",
       " ['John Banville', 'The Sea'],\n",
       " ['Kiran Desai', 'The Inheritance of Loss'],\n",
       " ['Anne Enright', 'The Gathering'],\n",
       " ['Aravind Adiga', 'The White Tiger'],\n",
       " ['Hilary Mantel', 'Wolf Hall'],\n",
       " ['Howard Jacobson', 'The Finkler Question'],\n",
       " ['Julian Barnes', 'The Sense of an Ending'],\n",
       " ['Hilary Mantel', 'Bring Up the Bodies'],\n",
       " ['Eleanor Catton', 'The Luminaries'],\n",
       " ['Richard Flanagan', 'The Narrow Road to the Deep North'],\n",
       " ['Marlon James', 'A Brief History of Seven Killings'],\n",
       " ['Paul Beatty', 'The Sellout'],\n",
       " ['George Saunders', 'Lincoln in the Bardo'],\n",
       " ['Anna Burns', 'Milkman'],\n",
       " ['Margaret Atwood', 'The Testaments'],\n",
       " ['Bernardine Evaristo', 'Girl, Woman, Other'],\n",
       " ['Douglas Stuart', 'Shuggie Bain'],\n",
       " ['Damon Galgut', 'The Promise'],\n",
       " ['Shehan Karunatilaka', 'The Seven Moons of Maali Almeida'],\n",
       " ['Paul Lynch', 'Prophet Song'],\n",
       " ['Samantha Harvey', 'Orbital']]"
      ]
     },
     "execution_count": 3,
     "metadata": {},
     "output_type": "execute_result"
    }
   ],
   "source": [
    "df = pd.read_csv(\"Authors.csv\", parse_dates=[\"DOB\"], dayfirst=True)\n",
    "df[[\"Author\", \"Title\"]].to_numpy().tolist()"
   ]
  },
  {
   "cell_type": "code",
   "execution_count": 16,
   "id": "8dae7ec8-5e3b-4ad3-ba3c-73730f4434d3",
   "metadata": {},
   "outputs": [
    {
     "data": {
      "text/html": [
       "<div>\n",
       "<style scoped>\n",
       "    .dataframe tbody tr th:only-of-type {\n",
       "        vertical-align: middle;\n",
       "    }\n",
       "\n",
       "    .dataframe tbody tr th {\n",
       "        vertical-align: top;\n",
       "    }\n",
       "\n",
       "    .dataframe thead th {\n",
       "        text-align: right;\n",
       "    }\n",
       "</style>\n",
       "<table border=\"1\" class=\"dataframe\">\n",
       "  <thead>\n",
       "    <tr style=\"text-align: right;\">\n",
       "      <th></th>\n",
       "      <th>Year</th>\n",
       "      <th>Author</th>\n",
       "      <th>Title</th>\n",
       "      <th>Gender</th>\n",
       "      <th>DOB</th>\n",
       "      <th>UK</th>\n",
       "      <th>Private</th>\n",
       "      <th>Oxbridge</th>\n",
       "      <th>White</th>\n",
       "      <th>Book Number</th>\n",
       "      <th>Setting</th>\n",
       "      <th>Age</th>\n",
       "      <th>Age Category</th>\n",
       "    </tr>\n",
       "  </thead>\n",
       "  <tbody>\n",
       "    <tr>\n",
       "      <th>0</th>\n",
       "      <td>1999</td>\n",
       "      <td>J. M. Coetzee</td>\n",
       "      <td>Disgrace</td>\n",
       "      <td>M</td>\n",
       "      <td>1940-02-09</td>\n",
       "      <td>0</td>\n",
       "      <td>0</td>\n",
       "      <td>0</td>\n",
       "      <td>1</td>\n",
       "      <td>8</td>\n",
       "      <td>Present</td>\n",
       "      <td>58.907598</td>\n",
       "      <td>3</td>\n",
       "    </tr>\n",
       "    <tr>\n",
       "      <th>1</th>\n",
       "      <td>2000</td>\n",
       "      <td>Margaret Atwood</td>\n",
       "      <td>The Blind Assassin</td>\n",
       "      <td>F</td>\n",
       "      <td>1939-11-18</td>\n",
       "      <td>0</td>\n",
       "      <td>0</td>\n",
       "      <td>0</td>\n",
       "      <td>1</td>\n",
       "      <td>10</td>\n",
       "      <td>Past</td>\n",
       "      <td>60.134155</td>\n",
       "      <td>3</td>\n",
       "    </tr>\n",
       "    <tr>\n",
       "      <th>2</th>\n",
       "      <td>2001</td>\n",
       "      <td>Peter Carey</td>\n",
       "      <td>True History of the Kelly Gang</td>\n",
       "      <td>M</td>\n",
       "      <td>1943-05-07</td>\n",
       "      <td>0</td>\n",
       "      <td>1</td>\n",
       "      <td>0</td>\n",
       "      <td>1</td>\n",
       "      <td>7</td>\n",
       "      <td>Past</td>\n",
       "      <td>57.670089</td>\n",
       "      <td>3</td>\n",
       "    </tr>\n",
       "    <tr>\n",
       "      <th>3</th>\n",
       "      <td>2002</td>\n",
       "      <td>Yann Martel</td>\n",
       "      <td>Life of Pi</td>\n",
       "      <td>M</td>\n",
       "      <td>1963-06-25</td>\n",
       "      <td>0</td>\n",
       "      <td>1</td>\n",
       "      <td>0</td>\n",
       "      <td>1</td>\n",
       "      <td>4</td>\n",
       "      <td>Recent Past</td>\n",
       "      <td>38.535250</td>\n",
       "      <td>1</td>\n",
       "    </tr>\n",
       "    <tr>\n",
       "      <th>4</th>\n",
       "      <td>2003</td>\n",
       "      <td>DBC Pierre</td>\n",
       "      <td>Vernon God Little</td>\n",
       "      <td>M</td>\n",
       "      <td>1961-01-01</td>\n",
       "      <td>0</td>\n",
       "      <td>1</td>\n",
       "      <td>0</td>\n",
       "      <td>1</td>\n",
       "      <td>1</td>\n",
       "      <td>Present</td>\n",
       "      <td>42.012320</td>\n",
       "      <td>1</td>\n",
       "    </tr>\n",
       "  </tbody>\n",
       "</table>\n",
       "</div>"
      ],
      "text/plain": [
       "   Year           Author                           Title Gender        DOB  \\\n",
       "0  1999    J. M. Coetzee                        Disgrace      M 1940-02-09   \n",
       "1  2000  Margaret Atwood              The Blind Assassin      F 1939-11-18   \n",
       "2  2001      Peter Carey  True History of the Kelly Gang      M 1943-05-07   \n",
       "3  2002      Yann Martel                      Life of Pi      M 1963-06-25   \n",
       "4  2003       DBC Pierre               Vernon God Little      M 1961-01-01   \n",
       "\n",
       "   UK  Private  Oxbridge  White  Book Number      Setting        Age  \\\n",
       "0   0        0         0      1            8      Present  58.907598   \n",
       "1   0        0         0      1           10         Past  60.134155   \n",
       "2   0        1         0      1            7         Past  57.670089   \n",
       "3   0        1         0      1            4  Recent Past  38.535250   \n",
       "4   0        1         0      1            1      Present  42.012320   \n",
       "\n",
       "   Age Category  \n",
       "0             3  \n",
       "1             3  \n",
       "2             3  \n",
       "3             1  \n",
       "4             1  "
      ]
     },
     "execution_count": 16,
     "metadata": {},
     "output_type": "execute_result"
    }
   ],
   "source": [
    "df[\"Age\"] = df.apply(lambda x:  (pd.to_datetime(\"01/06/\" + str(x[\"Year\"])) - x[\"DOB\"]).days/365.25, axis=1)\n",
    "df[\"Age Category\"] = df[\"Age\"].apply(lambda x: 0 if x <25 else 1 if x < 44 else 2 if x < 55 else 3)\n",
    "df.head()"
   ]
  },
  {
   "cell_type": "code",
   "execution_count": 18,
   "id": "e9b835d9-4e07-4336-abbd-f123838c7bf7",
   "metadata": {},
   "outputs": [
    {
     "data": {
      "text/plain": [
       "(-16.335454869842543, -21.7019108583217, 0.64, 5.3664559884791565)"
      ]
     },
     "execution_count": 18,
     "metadata": {},
     "output_type": "execute_result"
    }
   ],
   "source": [
    "tmp = df[[\"Author\", \"Gender\"]].drop_duplicates()\n",
    "n, N = tmp[tmp[\"Gender\"]==\"M\"].shape[0], tmp.shape[0]\n",
    "\n",
    "l = n * np.log(n/N) + (N-n) * np.log((N-n)/N)\n",
    "l_null = n * np.log(0.32) + (N-n) * np.log(0.68)\n",
    "l, l_null, n/N, l - l_null"
   ]
  },
  {
   "cell_type": "code",
   "execution_count": 19,
   "id": "5081f0a6-d64b-450f-b268-8d859d8a812d",
   "metadata": {},
   "outputs": [
    {
     "data": {
      "text/plain": [
       "(-15.671736439310656, -32.548711980879496, 0.32, 16.87697554156884)"
      ]
     },
     "execution_count": 19,
     "metadata": {},
     "output_type": "execute_result"
    }
   ],
   "source": [
    "tmp = df[[\"Author\", \"UK\"]].drop_duplicates()\n",
    "n, N = tmp[tmp[\"UK\"]==1].shape[0], tmp.shape[0]\n",
    "\n",
    "l = n * np.log(n/N) + (N-n) * np.log((N-n)/N)\n",
    "l_null = n * np.log(0.84) + (N-n) * np.log(0.16)\n",
    "l, l_null, n/N, l-l_null"
   ]
  },
  {
   "cell_type": "code",
   "execution_count": 20,
   "id": "1c5637cc-3724-4293-bd86-1cad56a75d2c",
   "metadata": {},
   "outputs": [
    {
     "data": {
      "text/plain": [
       "(-17.14824500630932, -22.599343521258298, 0.44, 5.451098514948978)"
      ]
     },
     "execution_count": 20,
     "metadata": {},
     "output_type": "execute_result"
    }
   ],
   "source": [
    "tmp = df[[\"Author\", \"Private\"]].drop_duplicates()\n",
    "n, N = tmp[tmp[\"Private\"]==1].shape[0], tmp.shape[0]\n",
    "\n",
    "l = n * np.log(n/N) + (N-n) * np.log((N-n)/N)\n",
    "l_null = n * np.log(0.16) + (N-n) * np.log(0.84)\n",
    "l, l_null, n/N, l-l_null"
   ]
  },
  {
   "cell_type": "code",
   "execution_count": 21,
   "id": "0343e5bd-cbda-4d3c-aedc-7fe43c49633b",
   "metadata": {},
   "outputs": [
    {
     "data": {
      "text/plain": [
       "(-12.510060588454696, -19.191108409215484, 0.2, 6.681047820760789)"
      ]
     },
     "execution_count": 21,
     "metadata": {},
     "output_type": "execute_result"
    }
   ],
   "source": [
    "tmp = df[[\"Author\", \"Oxbridge\"]].drop_duplicates()\n",
    "n, N = tmp[tmp[\"Oxbridge\"]==1].shape[0], tmp.shape[0]\n",
    "\n",
    "l = n * np.log(n/N) + (N-n) * np.log((N-n)/N)\n",
    "l_null = n * np.log(0.03 * 0.79) + (N-n) * np.log(1-0.03*0.79)\n",
    "l, l_null, n/N, l-l_null"
   ]
  },
  {
   "cell_type": "code",
   "execution_count": 22,
   "id": "95693814-b230-4145-b488-b6f45eb336c5",
   "metadata": {},
   "outputs": [
    {
     "data": {
      "text/plain": [
       "(-13.77699820217432, -14.470579569773012, 0.76, 0.693581367598691)"
      ]
     },
     "execution_count": 22,
     "metadata": {},
     "output_type": "execute_result"
    }
   ],
   "source": [
    "tmp = df[[\"Author\", \"White\"]].drop_duplicates()\n",
    "n, N = tmp[tmp[\"White\"]==1].shape[0], tmp.shape[0]\n",
    "\n",
    "l = n * np.log(n/N) + (N-n) * np.log((N-n)/N)\n",
    "l_null = n * np.log(0.85) + (N-n) * np.log(0.15)\n",
    "l, l_null, n/N, l-l_null"
   ]
  },
  {
   "cell_type": "code",
   "execution_count": 23,
   "id": "dfa69a98-fbfc-4fcc-ab5a-a0f9fc6825f4",
   "metadata": {},
   "outputs": [
    {
     "data": {
      "text/plain": [
       "(-28.25716458630989,\n",
       " -39.21809789712134,\n",
       " 0.2222222222222222,\n",
       " 0.2962962962962963,\n",
       " 0.48148148148148145,\n",
       " 10.960933310811448)"
      ]
     },
     "execution_count": 23,
     "metadata": {},
     "output_type": "execute_result"
    }
   ],
   "source": [
    "tmp = df[[\"Author\", \"Age Category\"]]\n",
    "#n0  = tmp[tmp[\"Age Category\"]==0].shape[0]#, tmp.shape[0]\n",
    "n1  = tmp[tmp[\"Age Category\"]==1].shape[0]#, tmp.shape[0]\n",
    "n2  = tmp[tmp[\"Age Category\"]==2].shape[0]#, tmp.shape[0]\n",
    "n3  = tmp[tmp[\"Age Category\"]==3].shape[0]#, tmp.shape[0]\n",
    "N = n1 + n2 + n3\n",
    "\n",
    "l = n1 * np.log(n1/N) + n2 * np.log(n2/N) + n3 * np.log(n3/N)\n",
    "l_null = n1 * np.log(0.6/0.95) + n2 * np.log(0.2/0.95) + n3 * np.log(0.15/0.95) ### Account for dropping Gen Z\n",
    "l, l_null, n1/N, n2/N, n3/N, l-l_null"
   ]
  },
  {
   "cell_type": "code",
   "execution_count": 11,
   "id": "6a702e20-25d3-4c11-b4c3-b497d1c71dc6",
   "metadata": {},
   "outputs": [
    {
     "data": {
      "text/plain": [
       "<BarContainer object of 3 artists>"
      ]
     },
     "execution_count": 11,
     "metadata": {},
     "output_type": "execute_result"
    },
    {
     "data": {
      "image/png": "[encoded data removed]",
      "text/plain": [
       "<Figure size 640x480 with 1 Axes>"
      ]
     },
     "metadata": {},
     "output_type": "display_data"
    }
   ],
   "source": [
    "series1=[n1,n2,n3]\n",
    "series2 = [0.6/0.95*N, 0.2/0.95*N,0.15/0.95*N,]\n",
    "N = len(series1)\n",
    "\n",
    "# Bar positions\n",
    "ind = np.arange(N)  # the x locations for the groups\n",
    "width = 0.4         # the width of the bars\n",
    "\n",
    "# Plot side-by-side bars\n",
    "plt.bar(ind - width/2, series1, width, label='Series 1')\n",
    "plt.bar(ind + width/2, series2, width, label='Series 2')\n"
   ]
  },
  {
   "cell_type": "code",
   "execution_count": 27,
   "id": "3dc81df9-bbbe-455d-887d-438312bddb36",
   "metadata": {},
   "outputs": [
    {
     "data": {
      "text/plain": [
       "(5, 13)"
      ]
     },
     "execution_count": 27,
     "metadata": {},
     "output_type": "execute_result"
    }
   ],
   "source": [
    "df[(df[\"Title\"]!=\"The Testaments\") & (df[\"Book Number\"]==4)].shape"
   ]
  },
  {
   "cell_type": "code",
   "execution_count": 25,
   "id": "b701e8ee-b7c9-462b-975b-c7f56f494f3f",
   "metadata": {},
   "outputs": [
    {
     "name": "stdout",
     "output_type": "stream",
     "text": [
      "Null model:     p = 0.1711, logL = -69.55\n",
      "Alt model:      p = 0.1567, delta = 0.1211, logL = -68.82\n",
      "Log-likelihood ratio = 1.46\n",
      "p-value = 0.2263\n",
      "0.7319099843850694\n"
     ]
    }
   ],
   "source": [
    "import numpy as np\n",
    "from scipy.optimize import minimize\n",
    "from scipy.stats import chi2\n",
    "\n",
    "# Example data: number of tosses before stopping (i.e., first Head)\n",
    "data = df[df[\"Title\"]!=\"The Testaments\"][\"Book Number\"]\n",
    "\n",
    "# Log-likelihood function\n",
    "def log_likelihood(params, data, special_toss=4):\n",
    "    p, delta = params\n",
    "\n",
    "    ll = 0\n",
    "    for x in data:\n",
    "        prob = 1.0\n",
    "        for t in range(1, x):  # tails until x-1\n",
    "            pt = p + delta if t == special_toss else p\n",
    "            prob *= (1 - pt)\n",
    "        pt = p + delta if x == special_toss else p\n",
    "        prob *= pt  # head on toss x\n",
    "        ll += np.log(prob)\n",
    "    return ll\n",
    "\n",
    "# Negative log-likelihood for minimize\n",
    "def neg_ll(params, data):\n",
    "    return -log_likelihood(params, data)\n",
    "\n",
    "# Fit alternative model (estimate both p and delta)\n",
    "alt_result = minimize(\n",
    "    lambda params: -log_likelihood(params, data),\n",
    "    x0=[0.14, 0.1],\n",
    "    bounds=[(0.001, 0.6999), (1e-6, 0.3)]\n",
    ")\n",
    "\n",
    "p_alt, delta_alt = alt_result.x\n",
    "logL_alt = log_likelihood([p_alt, delta_alt], data)\n",
    "\n",
    "# Fit null model (delta = 0)\n",
    "def null_neg_ll(p):\n",
    "    return -log_likelihood([p[0], 0.0], data)\n",
    "\n",
    "null_result = minimize(\n",
    "    null_neg_ll,\n",
    "    x0=[0.5],\n",
    "    bounds=[(0.001, 0.999)]\n",
    ")\n",
    "\n",
    "p_null = null_result.x[0]\n",
    "logL_null = log_likelihood([p_null, 0.0], data)\n",
    "\n",
    "# Likelihood ratio test\n",
    "LR = 2 * (logL_alt - logL_null)\n",
    "p_value = 1 - chi2.cdf(LR, df=1)\n",
    "\n",
    "# Output results\n",
    "print(f\"Null model:     p = {p_null:.4f}, logL = {logL_null:.2f}\")\n",
    "print(f\"Alt model:      p = {p_alt:.4f}, delta = {delta_alt:.4f}, logL = {logL_alt:.2f}\")\n",
    "print(f\"Log-likelihood ratio = {LR:.2f}\")\n",
    "print(f\"p-value = {p_value:.4f}\")\n",
    "print(logL_alt - logL_null)"
   ]
  }
 ],
 "metadata": {
  "kernelspec": {
   "display_name": "CALFEM • Py 3.10 (Qt5)",
   "language": "python",
   "name": "calfem-env"
  },
  "language_info": {
   "codemirror_mode": {
    "name": "ipython",
    "version": 3
   },
   "file_extension": ".py",
   "mimetype": "text/x-python",
   "name": "python",
   "nbconvert_exporter": "python",
   "pygments_lexer": "ipython3",
   "version": "3.10.17"
  }
 },
 "nbformat": 4,
 "nbformat_minor": 5
}
